{
 "cells": [
  {
   "cell_type": "code",
   "execution_count": 6,
   "metadata": {},
   "outputs": [],
   "source": [
    "from pyvis.network import Network\n",
    "import networkx as nx\n",
    "import numpy as np\n",
    "from utils import build_nx_graph\n",
    "import pandas as pd"
   ]
  },
  {
   "cell_type": "code",
   "execution_count": 49,
   "metadata": {},
   "outputs": [
    {
     "data": {
      "text/plain": [
       "array([[0, 1, 0],\n",
       "       [1, 0, 1],\n",
       "       [0, 1, 0]])"
      ]
     },
     "execution_count": 49,
     "metadata": {},
     "output_type": "execute_result"
    }
   ],
   "source": [
    "A = np.array([\n",
    "    [0, 1, 0],\n",
    "    [1, 0, 1],\n",
    "    [0, 1, 0],\n",
    "])\n",
    "\n",
    "A"
   ]
  },
  {
   "cell_type": "code",
   "execution_count": 50,
   "metadata": {},
   "outputs": [
    {
     "data": {
      "image/png": "[encoded data removed]",
      "text/plain": [
       "<Figure size 640x480 with 1 Axes>"
      ]
     },
     "metadata": {},
     "output_type": "display_data"
    }
   ],
   "source": [
    "G = nx.from_numpy_array(A)\n",
    "pos = nx.kamada_kawai_layout(G)\n",
    "nx.draw(G, pos, with_labels=True)"
   ]
  },
  {
   "cell_type": "code",
   "execution_count": 51,
   "metadata": {},
   "outputs": [
    {
     "data": {
      "text/plain": [
       "array([[-1,  2,  0],\n",
       "       [ 0, -1,  2],\n",
       "       [ 0,  0, -1]])"
      ]
     },
     "execution_count": 51,
     "metadata": {},
     "output_type": "execute_result"
    }
   ],
   "source": [
    "Q = np.array([\n",
    "    [-1, 2, 0],\n",
    "    [0, -1, 2],\n",
    "    [0, 0, -1],\n",
    "])\n",
    "\n",
    "Q"
   ]
  },
  {
   "attachments": {},
   "cell_type": "markdown",
   "metadata": {},
   "source": [
    "$A = \\left( \\begin{array}{rrr}\n",
    "0 & 1 & 0 \\\\ \n",
    "1 & 0 & 1 \\\\\n",
    "0 & 1 & 0 \\\\\n",
    "\\end{array}\\right)$\n",
    "\n",
    "\n",
    "$Q = \\left( \\begin{array}{rrr}\n",
    "-1 & 2 & 0 \\\\ \n",
    "0 & -1 & 2 \\\\\n",
    "0 & 0 & -1 \\\\\n",
    "\\end{array}\\right)$\n",
    "\n",
    "$x = \\left( \\begin{array}{rrr}\n",
    "0 & 0 & 1 \\\\\n",
    "\\end{array}\\right)$"
   ]
  },
  {
   "attachments": {},
   "cell_type": "markdown",
   "metadata": {},
   "source": [
    "$\\begin{document}\n",
    "\\[\n",
    "H = \\left( \\begin{array}{rrr}\n",
    "0 & 0 & 1 \\\\\n",
    "\\end{array}\\right) \\\\ \n",
    "\\left( \\begin{vector}{rrr}\n",
    "-1 & 2 & 0 \\\\ \n",
    "0 & -1 & 2 \\\\\n",
    "0 & 0 & -1 \\\\\n",
    "\\end{vector}\\right)\n",
    "\\]\n",
    "\\end{document}$"
   ]
  },
  {
   "cell_type": "code",
   "execution_count": 62,
   "metadata": {},
   "outputs": [
    {
     "name": "stdout",
     "output_type": "stream",
     "text": [
      "[0 0 0] 0\n",
      "[0 0 1] -1\n",
      "[0 1 0] -1\n",
      "[0 1 1] 0\n",
      "[1 0 0] -1\n",
      "[1 0 1] -2\n",
      "[1 1 0] 0\n",
      "[1 1 1] 1\n"
     ]
    }
   ],
   "source": [
    "xs = np.array([\n",
    "    [0, 0, 0],\n",
    "    [0, 0, 1],\n",
    "    [0, 1, 0],\n",
    "    [0, 1, 1],\n",
    "    [1, 0, 0],\n",
    "    [1, 0, 1],\n",
    "    [1, 1, 0],\n",
    "    [1, 1, 1],\n",
    "])\n",
    "\n",
    "for x in xs:\n",
    "    H = x.T @ Q @ x\n",
    "    print(x, H)"
   ]
  },
  {
   "cell_type": "code",
   "execution_count": 58,
   "metadata": {},
   "outputs": [
    {
     "data": {
      "text/plain": [
       "0"
      ]
     },
     "execution_count": 58,
     "metadata": {},
     "output_type": "execute_result"
    }
   ],
   "source": [
    "x = np.array([0, 0, 0])\n",
    "\n",
    "x.T @ Q @ x"
   ]
  },
  {
   "cell_type": "code",
   "execution_count": 39,
   "metadata": {},
   "outputs": [
    {
     "data": {
      "text/plain": [
       "array([-1,  1,  4,  2])"
      ]
     },
     "execution_count": 39,
     "metadata": {},
     "output_type": "execute_result"
    }
   ],
   "source": [
    "x @ Q"
   ]
  }
 ],
 "metadata": {
  "kernelspec": {
   "display_name": ".venv",
   "language": "python",
   "name": "python3"
  },
  "language_info": {
   "codemirror_mode": {
    "name": "ipython",
    "version": 3
   },
   "file_extension": ".py",
   "mimetype": "text/x-python",
   "name": "python",
   "nbconvert_exporter": "python",
   "pygments_lexer": "ipython3",
   "version": "3.9.0"
  },
  "orig_nbformat": 4
 },
 "nbformat": 4,
 "nbformat_minor": 2
}
