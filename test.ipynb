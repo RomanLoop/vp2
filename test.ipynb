{
 "cells": [
  {
   "cell_type": "code",
   "execution_count": 3,
   "metadata": {},
   "outputs": [],
   "source": [
    "import pandas as pd\n",
    "import yfinance as yf\n",
    "\n",
    "def download_hist_prices(tickers:list, start:str, end:str) -> pd.DataFrame:\n",
    "    \"\"\" Returns a dataframe with (adjusted) close prices of the the\n",
    "        intput tickers.\n",
    "        Args:\n",
    "            tickers(list): List of RIC ticker names\n",
    "            start(str): Start date of history (format: YYYY-MM-DD)\n",
    "            end(str): End date of history (format: YYYY-MM-DD)\n",
    "        Returns:\n",
    "            pd.DataFrame: DatetimeIndex and each column contains the \n",
    "                (adjusted) close prices of one input ticker.\n",
    "    \"\"\"\n",
    "    ticker_str = ' '.join(tickers) # convert list to string\n",
    "    \n",
    "    data = yf.download(ticker_str, start=start, end=end)['Adj Close']\n",
    "    data.dropna(axis=1, how='all', inplace=True)\n",
    "    return data"
   ]
  },
  {
   "cell_type": "code",
   "execution_count": 6,
   "metadata": {},
   "outputs": [
    {
     "name": "stdout",
     "output_type": "stream",
     "text": [
      "[*********************100%***********************]  1 of 1 completed\n"
     ]
    }
   ],
   "source": [
    "# download_hist_prices(\n",
    "#     tickers=[\"^GSPC\"], \n",
    "#     start=\"2006-01-01\",\n",
    "#     end=\"2022-12-31\")\n",
    "\n",
    "data = yf.download(\"^GSPC\", start=\"2006-01-01\", end=\"2022-12-31\")['Adj Close']"
   ]
  },
  {
   "cell_type": "code",
   "execution_count": 7,
   "metadata": {},
   "outputs": [
    {
     "data": {
      "text/plain": [
       "Date\n",
       "2006-01-03    1268.800049\n",
       "2006-01-04    1273.459961\n",
       "2006-01-05    1273.479980\n",
       "2006-01-06    1285.449951\n",
       "2006-01-09    1290.150024\n",
       "                 ...     \n",
       "2022-12-23    3844.820068\n",
       "2022-12-27    3829.250000\n",
       "2022-12-28    3783.219971\n",
       "2022-12-29    3849.280029\n",
       "2022-12-30    3839.500000\n",
       "Name: Adj Close, Length: 4279, dtype: float64"
      ]
     },
     "execution_count": 7,
     "metadata": {},
     "output_type": "execute_result"
    }
   ],
   "source": [
    "data"
   ]
  }
 ],
 "metadata": {
  "kernelspec": {
   "display_name": ".venv",
   "language": "python",
   "name": "python3"
  },
  "language_info": {
   "codemirror_mode": {
    "name": "ipython",
    "version": 3
   },
   "file_extension": ".py",
   "mimetype": "text/x-python",
   "name": "python",
   "nbconvert_exporter": "python",
   "pygments_lexer": "ipython3",
   "version": "3.9.0"
  },
  "orig_nbformat": 4
 },
 "nbformat": 4,
 "nbformat_minor": 2
}
