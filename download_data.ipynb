{
 "cells": [
  {
   "cell_type": "code",
   "execution_count": 1,
   "metadata": {},
   "outputs": [],
   "source": [
    "import pandas as pd\n",
    "import yfinance as yf"
   ]
  },
  {
   "cell_type": "code",
   "execution_count": 30,
   "metadata": {},
   "outputs": [
    {
     "data": {
      "text/html": [
       "<div>\n",
       "<style scoped>\n",
       "    .dataframe tbody tr th:only-of-type {\n",
       "        vertical-align: middle;\n",
       "    }\n",
       "\n",
       "    .dataframe tbody tr th {\n",
       "        vertical-align: top;\n",
       "    }\n",
       "\n",
       "    .dataframe thead th {\n",
       "        text-align: right;\n",
       "    }\n",
       "</style>\n",
       "<table border=\"1\" class=\"dataframe\">\n",
       "  <thead>\n",
       "    <tr style=\"text-align: right;\">\n",
       "      <th></th>\n",
       "      <th>Trading Symbol</th>\n",
       "      <th>ETF Security Description</th>\n",
       "    </tr>\n",
       "  </thead>\n",
       "  <tbody>\n",
       "    <tr>\n",
       "      <th>0</th>\n",
       "      <td>AAA</td>\n",
       "      <td>INVESTMENT MANAGERS SER TR II AXS FI</td>\n",
       "    </tr>\n",
       "    <tr>\n",
       "      <th>1</th>\n",
       "      <td>AADR</td>\n",
       "      <td>ADVISORSHARES DORSEY WRIGHT ADR ETF</td>\n",
       "    </tr>\n",
       "    <tr>\n",
       "      <th>2</th>\n",
       "      <td>AAPB</td>\n",
       "      <td>GRANITESHARES ETF TR 1.75X LONG AAP</td>\n",
       "    </tr>\n",
       "    <tr>\n",
       "      <th>3</th>\n",
       "      <td>AAPD</td>\n",
       "      <td>DIREXION SHS ETF TR DAILY AAPL BEAR</td>\n",
       "    </tr>\n",
       "    <tr>\n",
       "      <th>4</th>\n",
       "      <td>AAPU</td>\n",
       "      <td>DIREXION SHS ETF TR DAILY AAPL BULL</td>\n",
       "    </tr>\n",
       "    <tr>\n",
       "      <th>...</th>\n",
       "      <td>...</td>\n",
       "      <td>...</td>\n",
       "    </tr>\n",
       "    <tr>\n",
       "      <th>3133</th>\n",
       "      <td>ZROZ</td>\n",
       "      <td>PIMCO ETF TR 25+ YR ZERO CPN US TREA</td>\n",
       "    </tr>\n",
       "    <tr>\n",
       "      <th>3134</th>\n",
       "      <td>ZSB</td>\n",
       "      <td>USCF ETF TR USCF SUSTAINABLE BATTERY</td>\n",
       "    </tr>\n",
       "    <tr>\n",
       "      <th>3135</th>\n",
       "      <td>ZSL</td>\n",
       "      <td>PROSHARES TR II ULTRASHORT SILVER NE</td>\n",
       "    </tr>\n",
       "    <tr>\n",
       "      <th>3136</th>\n",
       "      <td>ZSPY</td>\n",
       "      <td>ASYMMETRIC ETFS TR SMART ALPHA S&amp;P 5</td>\n",
       "    </tr>\n",
       "    <tr>\n",
       "      <th>3137</th>\n",
       "      <td>ZTAX</td>\n",
       "      <td>XSQUARE SER TR MUNICIPAL INCOME TAX</td>\n",
       "    </tr>\n",
       "  </tbody>\n",
       "</table>\n",
       "<p>3138 rows × 2 columns</p>\n",
       "</div>"
      ],
      "text/plain": [
       "     Trading Symbol              ETF Security Description\n",
       "0               AAA  INVESTMENT MANAGERS SER TR II AXS FI\n",
       "1              AADR   ADVISORSHARES DORSEY WRIGHT ADR ETF\n",
       "2              AAPB   GRANITESHARES ETF TR 1.75X LONG AAP\n",
       "3              AAPD   DIREXION SHS ETF TR DAILY AAPL BEAR\n",
       "4              AAPU   DIREXION SHS ETF TR DAILY AAPL BULL\n",
       "...             ...                                   ...\n",
       "3133           ZROZ  PIMCO ETF TR 25+ YR ZERO CPN US TREA\n",
       "3134            ZSB  USCF ETF TR USCF SUSTAINABLE BATTERY\n",
       "3135            ZSL  PROSHARES TR II ULTRASHORT SILVER NE\n",
       "3136           ZSPY  ASYMMETRIC ETFS TR SMART ALPHA S&P 5\n",
       "3137           ZTAX   XSQUARE SER TR MUNICIPAL INCOME TAX\n",
       "\n",
       "[3138 rows x 2 columns]"
      ]
     },
     "execution_count": 30,
     "metadata": {},
     "output_type": "execute_result"
    }
   ],
   "source": [
    "# Tickers from https://www.dtcc.com/charts/exchange-traded-funds\n",
    "etf_tickers_df = pd.read_csv(\"./data/etf_tickers.csv\", \n",
    "    sep=\"\\t\", \n",
    "    usecols=[\"Trading Symbol\", \"ETF Security Description\"]\n",
    "    )"
   ]
  }
 ],
 "metadata": {
  "kernelspec": {
   "display_name": ".venv",
   "language": "python",
   "name": "python3"
  },
  "language_info": {
   "codemirror_mode": {
    "name": "ipython",
    "version": 3
   },
   "file_extension": ".py",
   "mimetype": "text/x-python",
   "name": "python",
   "nbconvert_exporter": "python",
   "pygments_lexer": "ipython3",
   "version": "3.9.0"
  },
  "orig_nbformat": 4
 },
 "nbformat": 4,
 "nbformat_minor": 2
}
