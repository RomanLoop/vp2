{
 "cells": [
  {
   "cell_type": "markdown",
   "metadata": {},
   "source": [
    "# Combinatorial Optimization with Physics-Inspired Graph Neural Networks"
   ]
  },
  {
   "cell_type": "markdown",
   "metadata": {},
   "source": [
    "In this notebook we show how to solve combinatorial optimization problems with physics-inspired graph neural networks, as outlined in M. J. A. Schuetz, J. K. Brubaker, H. G. Katzgraber, _Combinatorial Optimization with Physics-Inspired Graph Neural Networks_, [arXiv:2107.01188](https://arxiv.org/abs/2107.01188). \n",
    "Here we focus on the canonical maximum independent set (MIS) problem, but our approach can easily be extended to other combinatorial optimization problems. \n",
    "For the actual implementation of the graph neural network we use the open-source ```dgl``` library. \n",
    "\n",
    "Please note we have provided a `requirements.txt` file, which defines the environment required to run this code. Because some of the packages are not available on default OSX conda channels, we have also provided suggested channels to find them on. These can be distilled into a single line as such:\n",
    "\n",
    "> conda create -n \\<environment_name\\> python=3 --file requirements.txt -c conda-forge -c dglteam -c pytorch"
   ]
  },
  {
   "cell_type": "code",
   "execution_count": 1,
   "metadata": {},
   "outputs": [],
   "source": [
    "import dgl\n",
    "import torch\n",
    "import random\n",
    "import os\n",
    "import numpy as np\n",
    "import networkx as nx\n",
    "import torch.nn as nn\n",
    "import torch.nn.functional as F\n",
    "\n",
    "from collections import OrderedDict, defaultdict\n",
    "from dgl.nn.pytorch import GraphConv\n",
    "from itertools import chain, islice, combinations\n",
    "from networkx.algorithms.approximation.independent_set import maximum_independent_set as mis\n",
    "from time import time\n",
    "\n",
    "# MacOS can have issues with MKL. For more details, see\n",
    "# https://stackoverflow.com/questions/53014306/error-15-initializing-libiomp5-dylib-but-found-libiomp5-dylib-already-initial\n",
    "os.environ['KMP_DUPLICATE_LIB_OK'] = 'True'"
   ]
  },
  {
   "cell_type": "code",
   "execution_count": 2,
   "metadata": {},
   "outputs": [
    {
     "name": "stdout",
     "output_type": "stream",
     "text": [
      "Will use device: cpu, torch dtype: torch.float32\n"
     ]
    }
   ],
   "source": [
    "# fix seed to ensure consistent results\n",
    "seed_value = 1\n",
    "random.seed(seed_value)        # seed python RNG\n",
    "np.random.seed(seed_value)     # seed global NumPy RNG\n",
    "torch.manual_seed(seed_value)  # seed torch RNG\n",
    "\n",
    "# Set GPU/CPU\n",
    "TORCH_DEVICE = torch.device('cuda' if torch.cuda.is_available() else 'cpu')\n",
    "TORCH_DTYPE = torch.float32\n",
    "print(f'Will use device: {TORCH_DEVICE}, torch dtype: {TORCH_DTYPE}')"
   ]
  },
  {
   "cell_type": "markdown",
   "metadata": {},
   "source": [
    "# Step 0 - Define utility functions"
   ]
  },
  {
   "cell_type": "markdown",
   "metadata": {},
   "source": [
    "We first load a few general utility functions from ```utils.py``` before defining some helper functions specific to the MIS problem. "
   ]
  },
  {
   "cell_type": "markdown",
   "metadata": {},
   "source": [
    "### General utilities"
   ]
  },
  {
   "cell_type": "code",
   "execution_count": 3,
   "metadata": {},
   "outputs": [],
   "source": [
    "from utils_orig import generate_graph, get_gnn, run_gnn_training, qubo_dict_to_torch, gen_combinations, loss_func"
   ]
  },
  {
   "cell_type": "markdown",
   "metadata": {},
   "source": [
    "### Problem-specific (MIS) utilities"
   ]
  },
  {
   "cell_type": "code",
   "execution_count": 15,
   "metadata": {},
   "outputs": [],
   "source": [
    "from tqdm import tqdm"
   ]
  },
  {
   "cell_type": "code",
   "execution_count": 4,
   "metadata": {},
   "outputs": [],
   "source": [
    "# helper function to generate Q matrix for Maximum Independent Set problem (MIS)\n",
    "def gen_q_dict_mis(nx_G, penalty=2):\n",
    "    \"\"\"\n",
    "    Helper function to generate QUBO matrix for MIS as minimization problem.\n",
    "    \n",
    "    Input:\n",
    "        nx_G: graph as networkx graph object (assumed to be unweigthed)\n",
    "    Output:\n",
    "        Q_dic: QUBO as defaultdict\n",
    "    \"\"\"\n",
    "\n",
    "    # Initialize our Q matrix\n",
    "    Q_dic = defaultdict(int)\n",
    "\n",
    "    # Update Q matrix for every edge in the graph\n",
    "    # all off-diagonal terms get penalty\n",
    "    for (u, v) in nx_G.edges:\n",
    "        Q_dic[(u, v)] = penalty\n",
    "\n",
    "    # all diagonal terms get -1\n",
    "    for u in nx_G.nodes:\n",
    "        Q_dic[(u, u)] = -1\n",
    "\n",
    "    return Q_dic\n",
    "\n",
    "\n",
    "# Run classical MIS solver (provided by NetworkX)\n",
    "def run_mis_solver(nx_graph):\n",
    "    \"\"\"\n",
    "    helper function to run traditional solver for MIS.\n",
    "    \n",
    "    Input:\n",
    "        nx_graph: networkx Graph object\n",
    "    Output:\n",
    "        ind_set_bitstring_nx: bitstring solution as list\n",
    "        ind_set_nx_size: size of independent set (int)\n",
    "        number_violations: number of violations of ind.set condition\n",
    "    \"\"\"\n",
    "    # compare with traditional solver\n",
    "    t_start = time()\n",
    "    ind_set_nx = mis(nx_graph)\n",
    "    t_solve = time() - t_start\n",
    "    ind_set_nx_size = len(ind_set_nx)\n",
    "\n",
    "    # get bitstring list\n",
    "    nx_bitstring = [1 if (node in ind_set_nx) else 0 for node in sorted(list(nx_graph.nodes))]\n",
    "    edge_set = set(list(nx_graph.edges))\n",
    "\n",
    "    # Updated to be able to handle larger scale\n",
    "    print('Calculating violations...')\n",
    "    # check for violations\n",
    "    number_violations = 0\n",
    "    for ind_set_chunk in gen_combinations(combinations(ind_set_nx, 2), 100000):\n",
    "        number_violations += len(set(ind_set_chunk).intersection(edge_set))\n",
    "\n",
    "    return nx_bitstring, ind_set_nx_size, number_violations, t_solve\n",
    "\n",
    "\n",
    "# Calculate results given bitstring and graph definition, includes check for violations\n",
    "def postprocess_gnn_mis(best_bitstring, nx_graph):\n",
    "    \"\"\"\n",
    "    helper function to postprocess MIS results\n",
    "\n",
    "    Input:\n",
    "        best_bitstring: bitstring as torch tensor\n",
    "    Output:\n",
    "        size_mis: Size of MIS (int)\n",
    "        ind_set: MIS (list of integers)\n",
    "        number_violations: number of violations of ind.set condition\n",
    "    \"\"\"\n",
    "\n",
    "    # get bitstring as list\n",
    "    bitstring_list = list(best_bitstring)\n",
    "\n",
    "    # compute cost\n",
    "    size_mis = sum(bitstring_list)\n",
    "\n",
    "    # get independent set\n",
    "    ind_set = set([node for node, entry in enumerate(bitstring_list) if entry == 1])\n",
    "    edge_set = set(list(nx_graph.edges))\n",
    "\n",
    "    print('Calculating violations...')\n",
    "    # check for violations\n",
    "    number_violations = 0\n",
    "    for ind_set_chunk in gen_combinations(combinations(ind_set, 2), 100000):\n",
    "        number_violations += len(set(ind_set_chunk).intersection(edge_set))\n",
    "\n",
    "    return size_mis, ind_set, number_violations"
   ]
  },
  {
   "cell_type": "markdown",
   "metadata": {},
   "source": [
    "# Step 1 - Set hyperparameters"
   ]
  },
  {
   "cell_type": "code",
   "execution_count": 5,
   "metadata": {},
   "outputs": [],
   "source": [
    "# Graph hypers\n",
    "n = 100\n",
    "d = 3\n",
    "p = None\n",
    "graph_type = 'reg'\n",
    "\n",
    "# NN learning hypers #\n",
    "number_epochs = int(1e5)\n",
    "learning_rate = 1e-4\n",
    "PROB_THRESHOLD = 0.5\n",
    "\n",
    "# Early stopping to allow NN to train to near-completion\n",
    "tol = 1e-4          # loss must change by more than tol, or trigger\n",
    "patience = 100    # number early stopping triggers before breaking loop\n",
    "\n",
    "# Problem size (e.g. graph size)\n",
    "n = 100\n",
    "\n",
    "# Establish dim_embedding and hidden_dim values\n",
    "dim_embedding = int(np.sqrt(n))    # e.g. 10\n",
    "hidden_dim = int(dim_embedding/2)  # e.g. 5"
   ]
  },
  {
   "cell_type": "markdown",
   "metadata": {},
   "source": [
    "# Step 2 - Generate random graph"
   ]
  },
  {
   "cell_type": "code",
   "execution_count": 6,
   "metadata": {},
   "outputs": [],
   "source": [
    "# Constructs a random d-regular or p-probabilistic graph\n",
    "nx_graph = generate_graph(n=n, d=d, p=p, graph_type=graph_type, random_seed=seed_value)\n",
    "# get DGL graph from networkx graph, load onto device\n",
    "graph_dgl = dgl.from_networkx(nx_graph=nx_graph)\n",
    "graph_dgl = graph_dgl.to(TORCH_DEVICE)\n",
    "\n",
    "# Construct Q matrix for graph\n",
    "q_torch = qubo_dict_to_torch(nx_graph, gen_q_dict_mis(nx_graph), torch_dtype=TORCH_DTYPE, torch_device=TORCH_DEVICE)"
   ]
  },
  {
   "cell_type": "code",
   "execution_count": 7,
   "metadata": {},
   "outputs": [
    {
     "name": "stdout",
     "output_type": "stream",
     "text": [
      "Generating d-regular graph with n=500, d=20, seed=1\n"
     ]
    }
   ],
   "source": [
    "# Visualize graph\n",
    "pos = nx.kamada_kawai_layout(nx_graph)\n",
    "nx.draw(nx_graph, pos, with_labels=True, node_color=[[.7, .7, .7]])"
   ]
  },
  {
   "cell_type": "markdown",
   "metadata": {},
   "source": [
    "# Step 3 - Set up optimizer/GNN architecture"
   ]
  },
  {
   "cell_type": "code",
   "execution_count": 10,
   "metadata": {},
   "outputs": [],
   "source": [
    "# Establish pytorch GNN + optimizer\n",
    "opt_params = {'lr': learning_rate}\n",
    "gnn_hypers = {\n",
    "    'dim_embedding': dim_embedding,\n",
    "    'hidden_dim': hidden_dim,\n",
    "    'dropout': 0.0,\n",
    "    'number_classes': 1,\n",
    "    'prob_threshold': PROB_THRESHOLD,\n",
    "    'number_epochs': number_epochs,\n",
    "    'tolerance': tol,\n",
    "    'patience': patience\n",
    "}\n",
    "\n",
    "net, embed, optimizer = get_gnn(n, gnn_hypers, opt_params, TORCH_DEVICE, TORCH_DTYPE)\n",
    "\n",
    "# For tracking hyperparameters in results object\n",
    "gnn_hypers.update(opt_params)"
   ]
  },
  {
   "cell_type": "markdown",
   "metadata": {},
   "source": [
    "# Step 4 - Run GNN training"
   ]
  },
  {
   "cell_type": "code",
   "execution_count": 11,
   "metadata": {
    "scrolled": true
   },
   "outputs": [
    {
     "name": "stdout",
     "output_type": "stream",
     "text": [
      "Running GNN...\n",
      "Epoch: 0, Loss: 25496.701171875\n"
     ]
    },
    {
     "name": "stderr",
     "output_type": "stream",
     "text": [
      "c:\\Users\\roman\\Documents\\20_Git_workspace\\VP2\\VP2-co-with-gnns-example\\.venv\\lib\\site-packages\\dgl\\backend\\pytorch\\tensor.py:445: UserWarning: TypedStorage is deprecated. It will be removed in the future and UntypedStorage will be the only storage class. This should only matter to you if you are using storages directly.  To access UntypedStorage directly, use tensor.untyped_storage() instead of tensor.storage()\n",
      "  assert input.numel() == input.storage().size(), (\n"
     ]
    },
    {
     "name": "stdout",
     "output_type": "stream",
     "text": [
      "Epoch: 1000, Loss: 11520.669921875\n",
      "Epoch: 2000, Loss: 3217.73095703125\n",
      "Epoch: 3000, Loss: 988.0736694335938\n",
      "Epoch: 4000, Loss: 379.0834045410156\n",
      "Epoch: 5000, Loss: 168.5371856689453\n",
      "Epoch: 6000, Loss: 81.92587280273438\n",
      "Epoch: 7000, Loss: 42.105377197265625\n",
      "Epoch: 8000, Loss: 22.438692092895508\n",
      "Epoch: 9000, Loss: 12.254985809326172\n",
      "Epoch: 10000, Loss: 6.809201240539551\n",
      "Epoch: 11000, Loss: 3.8307387828826904\n",
      "Epoch: 12000, Loss: 2.1751649379730225\n",
      "Epoch: 13000, Loss: 1.2438898086547852\n",
      "Epoch: 14000, Loss: 0.7152966260910034\n",
      "Epoch: 15000, Loss: 0.4131681025028229\n",
      "Epoch: 16000, Loss: 0.23952633142471313\n",
      "Stopping early on epoch 16582 (patience: 100)\n",
      "GNN training (n=500) took 65.072\n",
      "GNN final continuous loss: 0.17465347051620483\n",
      "GNN best continuous loss: 0.0\n"
     ]
    }
   ],
   "source": [
    "print('Running GNN...')\n",
    "gnn_start = time()\n",
    "\n",
    "_, epoch, final_bitstring, best_bitstring = run_gnn_training(\n",
    "    q_torch, graph_dgl, net, embed, optimizer, gnn_hypers['number_epochs'],\n",
    "    gnn_hypers['tolerance'], gnn_hypers['patience'], gnn_hypers['prob_threshold'])\n",
    "\n",
    "gnn_time = time() - gnn_start"
   ]
  },
  {
   "cell_type": "markdown",
   "metadata": {},
   "source": [
    "# Step 5 - Post-process GNN results"
   ]
  },
  {
   "cell_type": "code",
   "execution_count": 12,
   "metadata": {},
   "outputs": [
    {
     "name": "stdout",
     "output_type": "stream",
     "text": [
      "Calculating violations...\n",
      "Independence number found by GNN is 0.0 with 0 violations\n",
      "Took 65.196s, model training took 65.074s\n"
     ]
    }
   ],
   "source": [
    "final_loss = loss_func(final_bitstring.float(), q_torch)\n",
    "final_bitstring_str = ','.join([str(x) for x in final_bitstring])\n",
    "\n",
    "# Process bitstring reported by GNN\n",
    "size_mis, ind_set, number_violations = postprocess_gnn_mis(best_bitstring, nx_graph)\n",
    "gnn_tot_time = time() - gnn_start\n",
    "\n",
    "print(f'Independence number found by GNN is {size_mis} with {number_violations} violations')\n",
    "print(f'Took {round(gnn_tot_time, 3)}s, model training took {round(gnn_time, 3)}s')"
   ]
  },
  {
   "cell_type": "code",
   "execution_count": 13,
   "metadata": {},
   "outputs": [],
   "source": [
    "# Visualize result\n",
    "# Note no light-blue nodes are connected by an edge\n",
    "color_map = ['orange' if (best_bitstring[node]==0) else 'lightblue' for node in nx_graph.nodes]\n",
    "nx.draw(nx_graph, pos, with_labels=True, node_color=color_map)"
   ]
  },
  {
   "cell_type": "markdown",
   "metadata": {},
   "source": [
    "# Step 6 - (optional) Compare to classical solver"
   ]
  },
  {
   "cell_type": "code",
   "execution_count": 14,
   "metadata": {},
   "outputs": [
    {
     "name": "stdout",
     "output_type": "stream",
     "text": [
      "Running built-in MIS solver (n=500).\n",
      "Calculating violations...\n",
      "Independence number found by nx solver is 72 with 0 violations.\n",
      "MIS solver took 15.477s\n"
     ]
    }
   ],
   "source": [
    "# run solver\n",
    "print(f'Running built-in MIS solver (n={n}).')\n",
    "start = time()\n",
    "ind_set_bitstring_nx, ind_set_nx_size, nx_number_violations, t_solve = run_mis_solver(nx_graph)\n",
    "end = time()\n",
    "runtime_sol = end - start\n",
    "print(f'Independence number found by nx solver is {ind_set_nx_size} with {nx_number_violations} violations.')\n",
    "print(f'MIS solver took {round(runtime_sol, 3)}s')"
   ]
  }
 ],
 "metadata": {
  "kernelspec": {
   "display_name": ".venv",
   "language": "python",
   "name": "python3"
  },
  "language_info": {
   "codemirror_mode": {
    "name": "ipython",
    "version": 3
   },
   "file_extension": ".py",
   "mimetype": "text/x-python",
   "name": "python",
   "nbconvert_exporter": "python",
   "pygments_lexer": "ipython3",
   "version": "3.9.0"
  }
 },
 "nbformat": 4,
 "nbformat_minor": 4
}
